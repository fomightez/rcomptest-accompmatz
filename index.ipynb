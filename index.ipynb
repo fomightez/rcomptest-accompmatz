{
 "cells": [
  {
   "cell_type": "markdown",
   "metadata": {},
   "source": [
    "# rcomp_testenv\n",
    "## rcomp_testenv in your browser\n",
    "\n",
    "Welcome. Select a notebook below to get started.\n",
    "\n",
    "If in doubt, start with the one at the top and work down.\n",
    "\n",
    "## Notebooks\n",
    "\n",
    "- [0-Trigger All](notebooks/0-Trigger_all.ipynb)\n",
    "- [1-Get and make Md](notebooks/1-MakeMd.ipynb)\n",
    "- [2-Make Nbs](notebooks/2-MakeNbs.ipynb)\n",
    "- [3-Run Nbs](notebooks/3-Run.ipynb)\n",
    "\n",
    "\n",
    "\n",
    "### Additional topics\n",
    "- [Mine packages needed](notebooks/mine_packages_needed.ipynb)"
   ]
  }
 ],
 "metadata": {
  "kernelspec": {
   "display_name": "Python 3",
   "language": "python",
   "name": "python3"
  },
  "language_info": {
   "codemirror_mode": {
    "name": "ipython",
    "version": 3
   },
   "file_extension": ".py",
   "mimetype": "text/x-python",
   "name": "python",
   "nbconvert_exporter": "python",
   "pygments_lexer": "ipython3",
   "version": "3.7.3"
  }
 },
 "nbformat": 4,
 "nbformat_minor": 4
}
