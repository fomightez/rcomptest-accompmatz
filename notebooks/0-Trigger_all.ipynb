{
 "cells": [
  {
   "cell_type": "markdown",
   "metadata": {},
   "source": [
    "# Trigger running them all\n",
    "\n",
    "Run `Run all` in this notebook. Wait. And then use the notebooks in `rcomp_nbs` directory. All libraries should be installed already in the environment."
   ]
  },
  {
   "cell_type": "code",
   "execution_count": null,
   "metadata": {},
   "outputs": [],
   "source": [
    "nb = \"1-MakeMd.ipynb\"\n",
    "!jupyter nbconvert --to notebook --execute {nb} --output={nb} --ExecutePreprocessor.timeout=300"
   ]
  },
  {
   "cell_type": "code",
   "execution_count": null,
   "metadata": {},
   "outputs": [],
   "source": [
    "nb = \"2-MakeNbs.ipynb\"\n",
    "!jupyter nbconvert --to notebook --execute {nb} --output={nb} --ExecutePreprocessor.timeout=600"
   ]
  },
  {
   "cell_type": "code",
   "execution_count": null,
   "metadata": {},
   "outputs": [],
   "source": [
    "nb = \"3-Run.ipynb\"\n",
    "!jupyter nbconvert --to notebook --execute {nb} --output={nb} --ExecutePreprocessor.timeout=600"
   ]
  },
  {
   "cell_type": "markdown",
   "metadata": {},
   "source": [
    "----\n",
    "\n",
    "----"
   ]
  },
  {
   "cell_type": "code",
   "execution_count": null,
   "metadata": {},
   "outputs": [],
   "source": [
    "'''\n",
    "%pip install papermill\n",
    "import papermill as pm\n",
    "'''"
   ]
  },
  {
   "cell_type": "code",
   "execution_count": null,
   "metadata": {},
   "outputs": [],
   "source": [
    "'''\n",
    "_ = pm.execute_notebook(\n",
    "   'one.ipynb',\n",
    "   'one_run.ipynb',\n",
    "   )\n",
    "'''"
   ]
  },
  {
   "cell_type": "code",
   "execution_count": null,
   "metadata": {},
   "outputs": [],
   "source": [
    "'''\n",
    "_ = pm.execute_notebook(\n",
    "   'two.ipynb',\n",
    "   'two_run.ipynb',\n",
    "   )\n",
    "'''"
   ]
  },
  {
   "cell_type": "code",
   "execution_count": null,
   "metadata": {},
   "outputs": [],
   "source": [
    "'''\n",
    "_ = pm.execute_notebook(\n",
    "   'three.ipynb',\n",
    "   'three_run.ipynb',\n",
    "   )\n",
    "'''"
   ]
  }
 ],
 "metadata": {
  "kernelspec": {
   "display_name": "Python 3",
   "language": "python",
   "name": "python3"
  },
  "language_info": {
   "codemirror_mode": {
    "name": "ipython",
    "version": 3
   },
   "file_extension": ".py",
   "mimetype": "text/x-python",
   "name": "python",
   "nbconvert_exporter": "python",
   "pygments_lexer": "ipython3",
   "version": "3.7.3"
  }
 },
 "nbformat": 4,
 "nbformat_minor": 4
}
